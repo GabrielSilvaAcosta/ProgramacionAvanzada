{
 "cells": [
  {
   "cell_type": "markdown",
   "metadata": {},
   "source": [
    "# Preguntas teóricas \n",
    "## 1) ¿Qué es un paradigma de programación?\n",
    "Es una forma de programar. Comprende las metodologías utilizadas para resolver cierto problema mediante el análisis de este, el modelamiento del problema, entre otras operaciones.\n",
    " \n",
    "## 2) ¿En qué se basa la programación orientada a objetos?\n",
    "La programación orientada a objetos se basa en la implementación de clases, donde cada elemento de la clase tiene atributos, que corresponden a las características de cada objeto, y métodos, que corresponden a las operaciones posibles de realizar. \n",
    "\n",
    "## 3) ¿Cuál es la diferencia entre recursividad e iteración, y como se relaciona esto con la notación Big O?\n",
    "Recursividad considera un proceso que se llama a sí mismo, pero con otro valor de entrada, generalmente menor en valor, mientras que iteratividad considera el uso de bucles o ciclos para resolver el problema. En cuanto a eficiencia, los algoritmos de iteración suelen ser más eficientes que los algoritmos recursivos. Por ejemplo, para Fibonacci, el algoritmo iterativo clásico es de orden O(n), mientras que para recursividad es de orden exponencial. \n",
    "\n",
    "## 4) Explicar la diferencia de rendimiento entre *O(1)* y *O(n)* \n",
    "El rendimiento O(1) corresponde al tiempo constante, es decir, el tiempo de operación no depende del tamaño del arreglo de entrada, mientras que el rendimiento O(n) depende de forma lineal del tamaño de entrada, es decir, crece de forma secuencial.\n",
    "\n",
    "## 5) ¿Cómo se calcula el orden de un programa que funciona por etapas? \n",
    "El programa se divide en pasos y se calcula el orden de cada paso correspondiente. Luego, si son pasos en serie, se calcula como la suma, donde el termino de \"peor orden\" es el dominante. En el caso de ser operaciones en ciclos, bucles o anidadas, se considera el producto de los ordenes separados.\n",
    " \n",
    "## 6) ¿Cómo se puede determinar la complejidad temporal de un algoritmo recursivo?\n",
    "Generalmente, se plantea una ecuaciòn de recursiòn, la cuàl se resuelve mediante herramientas como sustituciòn o el uso del Teorema Maestro (gracias Algoritmos y Estructuras de Datos)."
   ]
  },
  {
   "cell_type": "code",
   "execution_count": 18,
   "metadata": {},
   "outputs": [
    {
     "name": "stdout",
     "output_type": "stream",
     "text": [
      "Caminos posibles (Recursivo): 1540\n",
      "Caminos posibles (Iterativo): 1540\n"
     ]
    }
   ],
   "source": [
    "class CaminosPCB:\n",
    "    def __init__(self, N, M):\n",
    "        self.N = N  # Número de filas\n",
    "        self.M = M  # Número de columnas\n",
    "\n",
    "    def camino_recursivo(self, i=0, j=0, memoria=None):\n",
    "        \"\"\"Cuenta los caminos usando recursividad y guardando los valores ya calculados (gracias Algoritmos por enseñarme memoizacion)\"\"\"\n",
    "        if memoria is None:\n",
    "            memoria = {}\n",
    "        # Si llegamos a B\n",
    "        if i == self.N - 1 and j == self.M - 1:\n",
    "            return 1\n",
    "        # Si la posición actual está fuera de la grilla\n",
    "        if i >= self.N or j >= self.M:\n",
    "            return 0\n",
    "        # Si ya se calculo\n",
    "        if (i, j) in memoria:\n",
    "            return memoria[(i, j)]\n",
    "        # Movimientos hacia abajo y hacia la derecha\n",
    "        paths = self.camino_recursivo(i + 1, j, memoria) + self.camino_recursivo(i, j + 1, memoria)\n",
    "        # Guardar el resultado en la memoria\n",
    "        memoria[(i, j)] = paths\n",
    "        return paths\n",
    "    \n",
    "    def camino_iterativo(self):\n",
    "        \"\"\"Cuenta los caminos usando un algoritmo iterativo\"\"\"   \n",
    "        total_caminos = 0\n",
    "            # ISe inicia una tupla para ir guardando los valores en una lista \n",
    "        tupla = [(0, 0)]  \n",
    "        while tupla:\n",
    "            i, j = tupla.pop()\n",
    "            # Si llegamos a B\n",
    "            if i == self.N - 1 and j == self.M - 1:\n",
    "                total_caminos += 1\n",
    "            else:\n",
    "                # Mover hacia abajo (i + 1, j) si no estamos en la última fila\n",
    "                if i < self.N - 1:\n",
    "                    tupla.append((i + 1, j))\n",
    "                # Mover hacia la derecha (i, j + 1) si no estamos en la última columna\n",
    "                if j < self.M - 1:\n",
    "                    tupla.append((i, j + 1))\n",
    "        return total_caminos\n",
    "    def measure_time(self, metodo):\n",
    "        \"\"\"Mide el tiempo de ejecución de un método específico\"\"\"\n",
    "        start_time = time.time()\n",
    "        result = getattr(self, metodo)()\n",
    "        end_time = time.time()\n",
    "        execution_time = end_time - start_time\n",
    "        return result, execution_time\n",
    "# Ejemplo\n",
    "pcb = CaminosPCB(4, 20)\n",
    "print(f\"Caminos posibles (Recursivo): {pcb.camino_recursivo()}\")\n",
    "print(f\"Caminos posibles (Iterativo): {pcb.camino_iterativo()}\")\n"
   ]
  },
  {
   "cell_type": "code",
   "execution_count": null,
   "metadata": {},
   "outputs": [],
   "source": []
  }
 ],
 "metadata": {
  "kernelspec": {
   "display_name": "Python 3",
   "language": "python",
   "name": "python3"
  },
  "language_info": {
   "codemirror_mode": {
    "name": "ipython",
    "version": 3
   },
   "file_extension": ".py",
   "mimetype": "text/x-python",
   "name": "python",
   "nbconvert_exporter": "python",
   "pygments_lexer": "ipython3",
   "version": "3.11.9"
  }
 },
 "nbformat": 4,
 "nbformat_minor": 2
}
