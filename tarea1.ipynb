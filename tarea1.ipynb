{
 "cells": [
  {
   "cell_type": "markdown",
   "metadata": {},
   "source": [
    "# Preguntas teóricas \n",
    "## 1) ¿Qué es un paradigma de programación?\n",
    "\n",
    " \n",
    "## 2) ¿En qué se basa la programación orientada a objetos?\n",
    "La programación orientada a objetos se basa en la implementación de clases, donde cada elemento de la clase tiene atributos, que corresponden a las características de cada objeto, y métodos, que corresponden a \n",
    "\n",
    "## 3) ¿Cuál es la diferencia entre recursividad e iteración, y como se relaciona esto con la notación Big O?\n",
    "\n",
    "## 4) Explicar la diferencia de rendimiento entre *O(1)* y *O(n)* \n",
    "El rendimiento O(1) corresponde al tiempo constante, es decir, el tiempo de operación no depende del tamaño del arreglo de entrada, mientras que el rendimiento O(n) depende de forma lineal del tamaño de entrada, es decir, crece de forma secuencial.\n",
    "\n",
    "## 5) ¿Cómo se calcula el orden de un programa que funciona por etapas? \n",
    " \n",
    "## 6) ¿Cómo se puede determinar la complejidad temporal de un algoritmo recursivo?"
   ]
  },
  {
   "cell_type": "code",
   "execution_count": null,
   "metadata": {},
   "outputs": [],
   "source": []
  }
 ],
 "metadata": {
  "language_info": {
   "name": "python"
  }
 },
 "nbformat": 4,
 "nbformat_minor": 2
}
